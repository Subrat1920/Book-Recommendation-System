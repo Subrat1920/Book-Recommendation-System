{
 "cells": [
  {
   "cell_type": "markdown",
   "id": "1b0aa9b9-d948-4946-b0d4-84cd89ff6887",
   "metadata": {},
   "source": [
    "## Book Recommendation System using Peason Co-relation"
   ]
  },
  {
   "cell_type": "code",
   "execution_count": 1,
   "id": "3f011843-e624-4cc6-8232-995b3102eb5f",
   "metadata": {},
   "outputs": [
    {
     "name": "stdout",
     "output_type": "stream",
     "text": [
      "Imported\n"
     ]
    }
   ],
   "source": [
    "import pandas as pd\n",
    "import numpy as np\n",
    "import matplotlib.pyplot as plt\n",
    "import seaborn as sns\n",
    "import warnings as war\n",
    "war.filterwarnings(\"ignore\")\n",
    "print(\"Imported\")"
   ]
  },
  {
   "cell_type": "code",
   "execution_count": 66,
   "id": "93461534-6486-4c86-b4f9-ffbaed459d95",
   "metadata": {},
   "outputs": [
    {
     "name": "stdout",
     "output_type": "stream",
     "text": [
      "====================================================================================================\n",
      "Importing Books CSV file\n",
      "----------------------------------------------------------------------------------------------------\n",
      "Shape of the Books CSV File (271360, 8)\n",
      "====================================================================================================\n",
      "Importing Ratings CSV file\n",
      "----------------------------------------------------------------------------------------------------\n",
      "Shape of the Ratings CSV File (1149780, 3)\n",
      "====================================================================================================\n",
      "Importing Users CSV file\n",
      "----------------------------------------------------------------------------------------------------\n",
      "Shape of the Users CSV File (278858, 3)\n",
      "====================================================================================================\n"
     ]
    }
   ],
   "source": [
    "## reading the csv files\n",
    "print(\"=\"*100)\n",
    "print(\"Importing Books CSV file\")\n",
    "print(\"-\"*100)\n",
    "books = pd.read_csv(\"Datasets/Books.csv\")\n",
    "print(f\"Shape of the Books CSV File {books.shape}\")\n",
    "print(\"=\"*100)\n",
    "print(\"Importing Ratings CSV file\")\n",
    "print(\"-\"*100)\n",
    "ratings = pd.read_csv(\"Datasets/Ratings.csv\")\n",
    "print(f\"Shape of the Ratings CSV File {ratings.shape}\")\n",
    "print(\"=\"*100)\n",
    "print(\"Importing Users CSV file\")\n",
    "print(\"-\"*100)\n",
    "users = pd.read_csv(\"Datasets/Users.csv\")\n",
    "print(f\"Shape of the Users CSV File {users.shape}\")\n",
    "print(\"=\"*100)"
   ]
  },
  {
   "cell_type": "code",
   "execution_count": 12,
   "id": "5b5f6ce9-dc91-4f73-bdd5-13d6db9ae824",
   "metadata": {},
   "outputs": [
    {
     "name": "stdout",
     "output_type": "stream",
     "text": [
      "====================================================================================================\n",
      "Columns in Books\n",
      "----------------------------------------------------------------------------------------------------\n",
      "['ISBN', 'Book-Title', 'Book-Author', 'Year-Of-Publication', 'Publisher', 'Image-URL-S', 'Image-URL-M', 'Image-URL-L']\n",
      "====================================================================================================\n",
      "Columns in Ratings\n",
      "----------------------------------------------------------------------------------------------------\n",
      "['User-ID', 'ISBN', 'Book-Rating']\n",
      "====================================================================================================\n",
      "Columns in Users\n",
      "----------------------------------------------------------------------------------------------------\n",
      "['User-ID', 'Location', 'Age']\n",
      "====================================================================================================\n"
     ]
    }
   ],
   "source": [
    "print(\"=\"*100)\n",
    "print(\"Columns in Books\")\n",
    "print(\"-\"*100)\n",
    "print(f\"{books.columns.tolist()}\")\n",
    "print(\"=\"*100)\n",
    "print(\"Columns in Ratings\")\n",
    "print(\"-\"*100)\n",
    "print(f\"{ratings.columns.tolist()}\")\n",
    "print(\"=\"*100)\n",
    "print(\"Columns in Users\")\n",
    "print(\"-\"*100)\n",
    "print(f\"{users.columns.tolist()}\")\n",
    "print(\"=\"*100)"
   ]
  },
  {
   "cell_type": "code",
   "execution_count": 13,
   "id": "1c207c4a-b5f4-41f3-8773-9ba98e63c796",
   "metadata": {},
   "outputs": [
    {
     "name": "stdout",
     "output_type": "stream",
     "text": [
      "<class 'pandas.core.frame.DataFrame'>\n",
      "RangeIndex: 271360 entries, 0 to 271359\n",
      "Data columns (total 8 columns):\n",
      " #   Column               Non-Null Count   Dtype \n",
      "---  ------               --------------   ----- \n",
      " 0   ISBN                 271360 non-null  object\n",
      " 1   Book-Title           271360 non-null  object\n",
      " 2   Book-Author          271359 non-null  object\n",
      " 3   Year-Of-Publication  271360 non-null  object\n",
      " 4   Publisher            271358 non-null  object\n",
      " 5   Image-URL-S          271360 non-null  object\n",
      " 6   Image-URL-M          271360 non-null  object\n",
      " 7   Image-URL-L          271357 non-null  object\n",
      "dtypes: object(8)\n",
      "memory usage: 16.6+ MB\n"
     ]
    }
   ],
   "source": [
    "## checking each of the dataframe's info\n",
    "books.info()"
   ]
  },
  {
   "cell_type": "code",
   "execution_count": 14,
   "id": "df5593cc-32df-480d-808c-8b5b2ba872cd",
   "metadata": {},
   "outputs": [
    {
     "name": "stdout",
     "output_type": "stream",
     "text": [
      "<class 'pandas.core.frame.DataFrame'>\n",
      "RangeIndex: 278858 entries, 0 to 278857\n",
      "Data columns (total 3 columns):\n",
      " #   Column    Non-Null Count   Dtype  \n",
      "---  ------    --------------   -----  \n",
      " 0   User-ID   278858 non-null  int64  \n",
      " 1   Location  278858 non-null  object \n",
      " 2   Age       168096 non-null  float64\n",
      "dtypes: float64(1), int64(1), object(1)\n",
      "memory usage: 6.4+ MB\n"
     ]
    }
   ],
   "source": [
    "users.info()"
   ]
  },
  {
   "cell_type": "code",
   "execution_count": 15,
   "id": "b8807c0b-8a88-4ecc-bc49-66a1801a4490",
   "metadata": {},
   "outputs": [
    {
     "name": "stdout",
     "output_type": "stream",
     "text": [
      "<class 'pandas.core.frame.DataFrame'>\n",
      "RangeIndex: 1149780 entries, 0 to 1149779\n",
      "Data columns (total 3 columns):\n",
      " #   Column       Non-Null Count    Dtype \n",
      "---  ------       --------------    ----- \n",
      " 0   User-ID      1149780 non-null  int64 \n",
      " 1   ISBN         1149780 non-null  object\n",
      " 2   Book-Rating  1149780 non-null  int64 \n",
      "dtypes: int64(2), object(1)\n",
      "memory usage: 26.3+ MB\n"
     ]
    }
   ],
   "source": [
    "ratings.info()"
   ]
  },
  {
   "cell_type": "code",
   "execution_count": 170,
   "id": "af63d2fb-831a-493a-82e3-785c6b9390bc",
   "metadata": {},
   "outputs": [],
   "source": [
    "books.isnull().sum()\n",
    "books.dropna(inplace=True)"
   ]
  },
  {
   "cell_type": "code",
   "execution_count": 171,
   "id": "343cccfb-e069-4d9e-9fbc-4c3fed26af13",
   "metadata": {},
   "outputs": [
    {
     "data": {
      "text/plain": [
       "User-ID        0\n",
       "ISBN           0\n",
       "Book-Rating    0\n",
       "dtype: int64"
      ]
     },
     "execution_count": 171,
     "metadata": {},
     "output_type": "execute_result"
    }
   ],
   "source": [
    "ratings.isnull().sum()"
   ]
  },
  {
   "cell_type": "code",
   "execution_count": 172,
   "id": "606eab57-4f43-4b9b-9041-0f5dd8823f19",
   "metadata": {},
   "outputs": [
    {
     "data": {
      "text/plain": [
       "User-ID          0\n",
       "Location         0\n",
       "Age         110762\n",
       "dtype: int64"
      ]
     },
     "execution_count": 172,
     "metadata": {},
     "output_type": "execute_result"
    }
   ],
   "source": [
    "users.isnull().sum()"
   ]
  },
  {
   "cell_type": "markdown",
   "id": "fc2bbc88-ac87-4d39-8b79-da401317f639",
   "metadata": {},
   "source": [
    "### Exploratory Data Analysis"
   ]
  },
  {
   "cell_type": "code",
   "execution_count": 26,
   "id": "3654bdd3-f1ac-483c-9bc0-ae5810447579",
   "metadata": {},
   "outputs": [
    {
     "data": {
      "image/png": "[encoded data removed]",
      "text/plain": [
       "<Figure size 1000x1000 with 1 Axes>"
      ]
     },
     "metadata": {},
     "output_type": "display_data"
    }
   ],
   "source": [
    "year_count = books[\"Year-Of-Publication\"].value_counts().reset_index()\n",
    "plt.figure(figsize=(10,10))\n",
    "sns.barplot(data=year_count, x='index', y='Year-Of-Publication')\n",
    "plt.title(\"Number of Book Published with respect to Year\")\n",
    "plt.xlabel(\"Years\")\n",
    "plt.ylabel(\"Number of Books\")\n",
    "plt.xticks(rotation=90)\n",
    "plt.show()"
   ]
  },
  {
   "cell_type": "code",
   "execution_count": 33,
   "id": "0ad1352d-d931-40f2-acb8-7266585be291",
   "metadata": {},
   "outputs": [
    {
     "data": {
      "image/png": "[encoded data removed]",
      "text/plain": [
       "<Figure size 640x480 with 1 Axes>"
      ]
     },
     "metadata": {},
     "output_type": "display_data"
    }
   ],
   "source": [
    "plt.rc('font', size=15)\n",
    "ratings[\"Book-Rating\"].value_counts(sort=True).plot(kind='bar')\n",
    "plt.title(\"Rating Distribution\")\n",
    "plt.xlabel(\"Ratings\")\n",
    "plt.ylabel(\"Count\")\n",
    "plt.show()"
   ]
  },
  {
   "cell_type": "code",
   "execution_count": 36,
   "id": "4414829b-56c4-408f-bbc7-a56d4573b181",
   "metadata": {},
   "outputs": [
    {
     "data": {
      "image/png": "[encoded data removed]",
      "text/plain": [
       "<Figure size 640x480 with 1 Axes>"
      ]
     },
     "metadata": {},
     "output_type": "display_data"
    }
   ],
   "source": [
    "users.Age.hist(bins=[x*10 for x in range(0,10)])\n",
    "plt.title(\"Age Dustribution\")\n",
    "plt.xlabel(\"Age\")\n",
    "plt.ylabel(\"Count\")\n",
    "plt.show()"
   ]
  },
  {
   "cell_type": "markdown",
   "id": "6fc81f02-27ae-4df7-b9f0-7e7e3b623ad5",
   "metadata": {},
   "source": [
    "### Popularity Based Recommendation"
   ]
  },
  {
   "cell_type": "code",
   "execution_count": 173,
   "id": "c060078c-54df-4139-9810-27aa12b665c5",
   "metadata": {},
   "outputs": [
    {
     "data": {
      "text/html": [
       "<div>\n",
       "<style scoped>\n",
       "    .dataframe tbody tr th:only-of-type {\n",
       "        vertical-align: middle;\n",
       "    }\n",
       "\n",
       "    .dataframe tbody tr th {\n",
       "        vertical-align: top;\n",
       "    }\n",
       "\n",
       "    .dataframe thead th {\n",
       "        text-align: right;\n",
       "    }\n",
       "</style>\n",
       "<table border=\"1\" class=\"dataframe\">\n",
       "  <thead>\n",
       "    <tr style=\"text-align: right;\">\n",
       "      <th></th>\n",
       "      <th>Book-Rating</th>\n",
       "    </tr>\n",
       "    <tr>\n",
       "      <th>ISBN</th>\n",
       "      <th></th>\n",
       "    </tr>\n",
       "  </thead>\n",
       "  <tbody>\n",
       "    <tr>\n",
       "      <th>0971880107</th>\n",
       "      <td>365</td>\n",
       "    </tr>\n",
       "    <tr>\n",
       "      <th>0316666343</th>\n",
       "      <td>272</td>\n",
       "    </tr>\n",
       "    <tr>\n",
       "      <th>0060928336</th>\n",
       "      <td>221</td>\n",
       "    </tr>\n",
       "    <tr>\n",
       "      <th>0440214041</th>\n",
       "      <td>218</td>\n",
       "    </tr>\n",
       "    <tr>\n",
       "      <th>0385504209</th>\n",
       "      <td>217</td>\n",
       "    </tr>\n",
       "  </tbody>\n",
       "</table>\n",
       "</div>"
      ],
      "text/plain": [
       "            Book-Rating\n",
       "ISBN                   \n",
       "0971880107          365\n",
       "0316666343          272\n",
       "0060928336          221\n",
       "0440214041          218\n",
       "0385504209          217"
      ]
     },
     "execution_count": 173,
     "metadata": {},
     "output_type": "execute_result"
    }
   ],
   "source": [
    "rating_count = pd.DataFrame(ratings.groupby(\"ISBN\")['Book-Rating'].count())\n",
    "rating_count = rating_count.sort_values('Book-Rating', ascending=False)\n",
    "rating_count.head()"
   ]
  },
  {
   "cell_type": "markdown",
   "id": "580bbd21-0fe3-4ac3-bef8-e3d7ef09b637",
   "metadata": {},
   "source": [
    "##### This is just a recommendation system based on most liked books. It is normally used when we dont know the customer/ user."
   ]
  },
  {
   "cell_type": "code",
   "execution_count": 174,
   "id": "365bca81-bf49-4522-b107-199bbe1ae547",
   "metadata": {},
   "outputs": [
    {
     "data": {
      "text/html": [
       "<div>\n",
       "<style scoped>\n",
       "    .dataframe tbody tr th:only-of-type {\n",
       "        vertical-align: middle;\n",
       "    }\n",
       "\n",
       "    .dataframe tbody tr th {\n",
       "        vertical-align: top;\n",
       "    }\n",
       "\n",
       "    .dataframe thead th {\n",
       "        text-align: right;\n",
       "    }\n",
       "</style>\n",
       "<table border=\"1\" class=\"dataframe\">\n",
       "  <thead>\n",
       "    <tr style=\"text-align: right;\">\n",
       "      <th></th>\n",
       "      <th>ISBN</th>\n",
       "      <th>Book-Title</th>\n",
       "      <th>Book-Author</th>\n",
       "      <th>Year-Of-Publication</th>\n",
       "      <th>Publisher</th>\n",
       "      <th>Image-URL-S</th>\n",
       "      <th>Image-URL-M</th>\n",
       "      <th>Image-URL-L</th>\n",
       "    </tr>\n",
       "  </thead>\n",
       "  <tbody>\n",
       "    <tr>\n",
       "      <th>0</th>\n",
       "      <td>0971880107</td>\n",
       "      <td>Wild Animus</td>\n",
       "      <td>Rich Shapero</td>\n",
       "      <td>2004</td>\n",
       "      <td>Too Far</td>\n",
       "      <td>http://images.amazon.com/images/P/0971880107.0...</td>\n",
       "      <td>http://images.amazon.com/images/P/0971880107.0...</td>\n",
       "      <td>http://images.amazon.com/images/P/0971880107.0...</td>\n",
       "    </tr>\n",
       "    <tr>\n",
       "      <th>1</th>\n",
       "      <td>0316666343</td>\n",
       "      <td>The Lovely Bones: A Novel</td>\n",
       "      <td>Alice Sebold</td>\n",
       "      <td>2002</td>\n",
       "      <td>Little, Brown</td>\n",
       "      <td>http://images.amazon.com/images/P/0316666343.0...</td>\n",
       "      <td>http://images.amazon.com/images/P/0316666343.0...</td>\n",
       "      <td>http://images.amazon.com/images/P/0316666343.0...</td>\n",
       "    </tr>\n",
       "    <tr>\n",
       "      <th>2</th>\n",
       "      <td>0060928336</td>\n",
       "      <td>Divine Secrets of the Ya-Ya Sisterhood: A Novel</td>\n",
       "      <td>Rebecca Wells</td>\n",
       "      <td>1997</td>\n",
       "      <td>Perennial</td>\n",
       "      <td>http://images.amazon.com/images/P/0060928336.0...</td>\n",
       "      <td>http://images.amazon.com/images/P/0060928336.0...</td>\n",
       "      <td>http://images.amazon.com/images/P/0060928336.0...</td>\n",
       "    </tr>\n",
       "    <tr>\n",
       "      <th>3</th>\n",
       "      <td>0440214041</td>\n",
       "      <td>The Pelican Brief</td>\n",
       "      <td>John Grisham</td>\n",
       "      <td>1993</td>\n",
       "      <td>Dell</td>\n",
       "      <td>http://images.amazon.com/images/P/0440214041.0...</td>\n",
       "      <td>http://images.amazon.com/images/P/0440214041.0...</td>\n",
       "      <td>http://images.amazon.com/images/P/0440214041.0...</td>\n",
       "    </tr>\n",
       "    <tr>\n",
       "      <th>4</th>\n",
       "      <td>0385504209</td>\n",
       "      <td>The Da Vinci Code</td>\n",
       "      <td>Dan Brown</td>\n",
       "      <td>2003</td>\n",
       "      <td>Doubleday</td>\n",
       "      <td>http://images.amazon.com/images/P/0385504209.0...</td>\n",
       "      <td>http://images.amazon.com/images/P/0385504209.0...</td>\n",
       "      <td>http://images.amazon.com/images/P/0385504209.0...</td>\n",
       "    </tr>\n",
       "  </tbody>\n",
       "</table>\n",
       "</div>"
      ],
      "text/plain": [
       "         ISBN                                       Book-Title    Book-Author  \\\n",
       "0  0971880107                                      Wild Animus   Rich Shapero   \n",
       "1  0316666343                        The Lovely Bones: A Novel   Alice Sebold   \n",
       "2  0060928336  Divine Secrets of the Ya-Ya Sisterhood: A Novel  Rebecca Wells   \n",
       "3  0440214041                                The Pelican Brief   John Grisham   \n",
       "4  0385504209                                The Da Vinci Code      Dan Brown   \n",
       "\n",
       "  Year-Of-Publication      Publisher  \\\n",
       "0                2004        Too Far   \n",
       "1                2002  Little, Brown   \n",
       "2                1997      Perennial   \n",
       "3                1993           Dell   \n",
       "4                2003      Doubleday   \n",
       "\n",
       "                                         Image-URL-S  \\\n",
       "0  http://images.amazon.com/images/P/0971880107.0...   \n",
       "1  http://images.amazon.com/images/P/0316666343.0...   \n",
       "2  http://images.amazon.com/images/P/0060928336.0...   \n",
       "3  http://images.amazon.com/images/P/0440214041.0...   \n",
       "4  http://images.amazon.com/images/P/0385504209.0...   \n",
       "\n",
       "                                         Image-URL-M  \\\n",
       "0  http://images.amazon.com/images/P/0971880107.0...   \n",
       "1  http://images.amazon.com/images/P/0316666343.0...   \n",
       "2  http://images.amazon.com/images/P/0060928336.0...   \n",
       "3  http://images.amazon.com/images/P/0440214041.0...   \n",
       "4  http://images.amazon.com/images/P/0385504209.0...   \n",
       "\n",
       "                                         Image-URL-L  \n",
       "0  http://images.amazon.com/images/P/0971880107.0...  \n",
       "1  http://images.amazon.com/images/P/0316666343.0...  \n",
       "2  http://images.amazon.com/images/P/0060928336.0...  \n",
       "3  http://images.amazon.com/images/P/0440214041.0...  \n",
       "4  http://images.amazon.com/images/P/0385504209.0...  "
      ]
     },
     "execution_count": 174,
     "metadata": {},
     "output_type": "execute_result"
    }
   ],
   "source": [
    "## let's give the detailed dataframe for the most rated books\n",
    "most_rated_books = pd.DataFrame(rating_count.index.tolist()[:5], index=np.arange(5), columns=[\"ISBN\"])\n",
    "most_rated_books_summary = pd.merge(most_rated_books, books, on=\"ISBN\")\n",
    "most_rated_books_summary"
   ]
  },
  {
   "cell_type": "markdown",
   "id": "ae090fbb-86b2-4bd2-8a30-05ebd9383f74",
   "metadata": {},
   "source": [
    "### Recommendation Based on Co-Relation"
   ]
  },
  {
   "cell_type": "markdown",
   "id": "e432b7ec-340f-4865-b290-78b1970b69d8",
   "metadata": {},
   "source": [
    "##### We use Pearson Co-Relation coefficient to measure the linear corelation between two variables, we can take the average rating of the two books and get the recommendation."
   ]
  },
  {
   "cell_type": "code",
   "execution_count": 175,
   "id": "2c6c9858-5109-4558-83fd-f55d184820ea",
   "metadata": {},
   "outputs": [
    {
     "data": {
      "text/html": [
       "<div>\n",
       "<style scoped>\n",
       "    .dataframe tbody tr th:only-of-type {\n",
       "        vertical-align: middle;\n",
       "    }\n",
       "\n",
       "    .dataframe tbody tr th {\n",
       "        vertical-align: top;\n",
       "    }\n",
       "\n",
       "    .dataframe thead th {\n",
       "        text-align: right;\n",
       "    }\n",
       "</style>\n",
       "<table border=\"1\" class=\"dataframe\">\n",
       "  <thead>\n",
       "    <tr style=\"text-align: right;\">\n",
       "      <th></th>\n",
       "      <th>Book-Rating</th>\n",
       "      <th>ratingcount</th>\n",
       "    </tr>\n",
       "    <tr>\n",
       "      <th>ISBN</th>\n",
       "      <th></th>\n",
       "      <th></th>\n",
       "    </tr>\n",
       "  </thead>\n",
       "  <tbody>\n",
       "    <tr>\n",
       "      <th>0971880107</th>\n",
       "      <td>0.436</td>\n",
       "      <td>365</td>\n",
       "    </tr>\n",
       "    <tr>\n",
       "      <th>0316666343</th>\n",
       "      <td>3.199</td>\n",
       "      <td>272</td>\n",
       "    </tr>\n",
       "    <tr>\n",
       "      <th>0060928336</th>\n",
       "      <td>1.910</td>\n",
       "      <td>221</td>\n",
       "    </tr>\n",
       "    <tr>\n",
       "      <th>0440214041</th>\n",
       "      <td>1.885</td>\n",
       "      <td>218</td>\n",
       "    </tr>\n",
       "    <tr>\n",
       "      <th>0385504209</th>\n",
       "      <td>3.171</td>\n",
       "      <td>217</td>\n",
       "    </tr>\n",
       "  </tbody>\n",
       "</table>\n",
       "</div>"
      ],
      "text/plain": [
       "            Book-Rating  ratingcount\n",
       "ISBN                                \n",
       "0971880107        0.436          365\n",
       "0316666343        3.199          272\n",
       "0060928336        1.910          221\n",
       "0440214041        1.885          218\n",
       "0385504209        3.171          217"
      ]
     },
     "execution_count": 175,
     "metadata": {},
     "output_type": "execute_result"
    }
   ],
   "source": [
    "average_rating = pd.DataFrame(ratings.groupby('ISBN')['Book-Rating'].mean())\n",
    "average_rating['ratingcount'] = pd.DataFrame(ratings.groupby(\"ISBN\")['Book-Rating'].count())\n",
    "average_rating.sort_values('ratingcount', ascending=False).head()"
   ]
  },
  {
   "cell_type": "code",
   "execution_count": 176,
   "id": "2fe419fb-5230-4b2c-bbce-4ff6aa9482d9",
   "metadata": {},
   "outputs": [
    {
     "data": {
      "text/plain": [
       "(207699, 2)"
      ]
     },
     "execution_count": 176,
     "metadata": {},
     "output_type": "execute_result"
    }
   ],
   "source": [
    "average_rating.shape"
   ]
  },
  {
   "cell_type": "markdown",
   "id": "0e4b46ea-de67-4cc5-8c5a-05132deae1b7",
   "metadata": {},
   "source": [
    "##### we can see that there is blunder, with the two dataframes. We can clearly see that the book which has highest ratings, are not rated or liked, and here the system could faile in getting the correct recommendation."
   ]
  },
  {
   "cell_type": "code",
   "execution_count": 177,
   "id": "2e7966a8-9fd4-4c64-a590-13e04a151207",
   "metadata": {},
   "outputs": [],
   "source": [
    "counts1 = ratings['User-ID'].value_counts()\n",
    "ratings = ratings[ratings['User-ID'].isin(counts1[counts1 >= 200].index)]\n",
    "counts = ratings['Book-Rating'].value_counts()\n",
    "ratings = ratings[ratings['Book-Rating'].isin(counts[counts >= 100].index)]"
   ]
  },
  {
   "cell_type": "code",
   "execution_count": 178,
   "id": "acce116f-9fdc-40df-9db5-844a73762d3d",
   "metadata": {},
   "outputs": [
    {
     "data": {
      "text/plain": [
       "(527556, 3)"
      ]
     },
     "execution_count": 178,
     "metadata": {},
     "output_type": "execute_result"
    }
   ],
   "source": [
    "ratings.shape"
   ]
  },
  {
   "cell_type": "markdown",
   "id": "34ba5cf0-5810-403b-9ed2-e44595cb10b7",
   "metadata": {},
   "source": [
    "##### Rating Matrics\n",
    "    We convert the ratings table to a 2D matrix. The matrix will be sparse because not every user rated every book."
   ]
  },
  {
   "cell_type": "code",
   "execution_count": 179,
   "id": "8c5886d1-d881-45fa-8e37-08f76178a447",
   "metadata": {},
   "outputs": [],
   "source": [
    "ratings_pivot = ratings.pivot(index='User-ID', columns='ISBN')['Book-Rating']"
   ]
  },
  {
   "cell_type": "code",
   "execution_count": 180,
   "id": "54640a95-d5dd-45e7-8457-c51ba39d0bd4",
   "metadata": {},
   "outputs": [
    {
     "data": {
      "text/plain": [
       "(905, 207699)"
      ]
     },
     "execution_count": 180,
     "metadata": {},
     "output_type": "execute_result"
    }
   ],
   "source": [
    "## List the User-IDs \n",
    "userID = ratings_pivot.index\n",
    "ISBN = ratings_pivot.columns\n",
    "ratings_pivot.shape"
   ]
  },
  {
   "cell_type": "code",
   "execution_count": 181,
   "id": "1373cd9a-3134-48fa-826b-6c7f5f08c9c6",
   "metadata": {},
   "outputs": [
    {
     "data": {
      "text/plain": [
       "(True, True)"
      ]
     },
     "execution_count": 181,
     "metadata": {},
     "output_type": "execute_result"
    }
   ],
   "source": [
    "## checking the integrity\n",
    "ratings_pivot.shape[0]==len(userID), ratings_pivot.shape[1]==len(ISBN)"
   ]
  },
  {
   "cell_type": "code",
   "execution_count": 182,
   "id": "7546669a-4afc-40c2-9709-275fc2cbfec2",
   "metadata": {},
   "outputs": [
    {
     "name": "stdout",
     "output_type": "stream",
     "text": [
      "(905, 207699)\n"
     ]
    },
    {
     "data": {
      "text/html": [
       "<div>\n",
       "<style scoped>\n",
       "    .dataframe tbody tr th:only-of-type {\n",
       "        vertical-align: middle;\n",
       "    }\n",
       "\n",
       "    .dataframe tbody tr th {\n",
       "        vertical-align: top;\n",
       "    }\n",
       "\n",
       "    .dataframe thead th {\n",
       "        text-align: right;\n",
       "    }\n",
       "</style>\n",
       "<table border=\"1\" class=\"dataframe\">\n",
       "  <thead>\n",
       "    <tr style=\"text-align: right;\">\n",
       "      <th>ISBN</th>\n",
       "      <th>0330299891</th>\n",
       "      <th>0375404120</th>\n",
       "      <th>0586045007</th>\n",
       "      <th>9022906116</th>\n",
       "      <th>9032803328</th>\n",
       "      <th>9044922564</th>\n",
       "      <th>9044922572</th>\n",
       "      <th>9044922718</th>\n",
       "      <th>9044923161</th>\n",
       "      <th>904492401X</th>\n",
       "      <th>...</th>\n",
       "      <th>UNGRANDHOMMED</th>\n",
       "      <th>X000000000</th>\n",
       "      <th>YOUTELLEM,AND</th>\n",
       "      <th>ZR903CX0003</th>\n",
       "      <th>\\0432534220\\\"\"</th>\n",
       "      <th>\\2842053052\\\"\"</th>\n",
       "      <th>b00005wz75</th>\n",
       "      <th>cn108465</th>\n",
       "      <th>cn113107</th>\n",
       "      <th>Ô½crosoft</th>\n",
       "    </tr>\n",
       "    <tr>\n",
       "      <th>User-ID</th>\n",
       "      <th></th>\n",
       "      <th></th>\n",
       "      <th></th>\n",
       "      <th></th>\n",
       "      <th></th>\n",
       "      <th></th>\n",
       "      <th></th>\n",
       "      <th></th>\n",
       "      <th></th>\n",
       "      <th></th>\n",
       "      <th></th>\n",
       "      <th></th>\n",
       "      <th></th>\n",
       "      <th></th>\n",
       "      <th></th>\n",
       "      <th></th>\n",
       "      <th></th>\n",
       "      <th></th>\n",
       "      <th></th>\n",
       "      <th></th>\n",
       "      <th></th>\n",
       "    </tr>\n",
       "  </thead>\n",
       "  <tbody>\n",
       "    <tr>\n",
       "      <th>254</th>\n",
       "      <td>NaN</td>\n",
       "      <td>NaN</td>\n",
       "      <td>NaN</td>\n",
       "      <td>NaN</td>\n",
       "      <td>NaN</td>\n",
       "      <td>NaN</td>\n",
       "      <td>NaN</td>\n",
       "      <td>NaN</td>\n",
       "      <td>NaN</td>\n",
       "      <td>NaN</td>\n",
       "      <td>...</td>\n",
       "      <td>NaN</td>\n",
       "      <td>NaN</td>\n",
       "      <td>NaN</td>\n",
       "      <td>NaN</td>\n",
       "      <td>NaN</td>\n",
       "      <td>NaN</td>\n",
       "      <td>NaN</td>\n",
       "      <td>NaN</td>\n",
       "      <td>NaN</td>\n",
       "      <td>NaN</td>\n",
       "    </tr>\n",
       "    <tr>\n",
       "      <th>2276</th>\n",
       "      <td>NaN</td>\n",
       "      <td>NaN</td>\n",
       "      <td>NaN</td>\n",
       "      <td>NaN</td>\n",
       "      <td>NaN</td>\n",
       "      <td>NaN</td>\n",
       "      <td>NaN</td>\n",
       "      <td>NaN</td>\n",
       "      <td>NaN</td>\n",
       "      <td>NaN</td>\n",
       "      <td>...</td>\n",
       "      <td>NaN</td>\n",
       "      <td>NaN</td>\n",
       "      <td>NaN</td>\n",
       "      <td>NaN</td>\n",
       "      <td>NaN</td>\n",
       "      <td>NaN</td>\n",
       "      <td>NaN</td>\n",
       "      <td>NaN</td>\n",
       "      <td>NaN</td>\n",
       "      <td>NaN</td>\n",
       "    </tr>\n",
       "    <tr>\n",
       "      <th>2766</th>\n",
       "      <td>NaN</td>\n",
       "      <td>NaN</td>\n",
       "      <td>NaN</td>\n",
       "      <td>NaN</td>\n",
       "      <td>NaN</td>\n",
       "      <td>NaN</td>\n",
       "      <td>NaN</td>\n",
       "      <td>NaN</td>\n",
       "      <td>NaN</td>\n",
       "      <td>NaN</td>\n",
       "      <td>...</td>\n",
       "      <td>NaN</td>\n",
       "      <td>NaN</td>\n",
       "      <td>NaN</td>\n",
       "      <td>NaN</td>\n",
       "      <td>NaN</td>\n",
       "      <td>NaN</td>\n",
       "      <td>NaN</td>\n",
       "      <td>NaN</td>\n",
       "      <td>NaN</td>\n",
       "      <td>NaN</td>\n",
       "    </tr>\n",
       "    <tr>\n",
       "      <th>2977</th>\n",
       "      <td>NaN</td>\n",
       "      <td>NaN</td>\n",
       "      <td>NaN</td>\n",
       "      <td>NaN</td>\n",
       "      <td>NaN</td>\n",
       "      <td>NaN</td>\n",
       "      <td>NaN</td>\n",
       "      <td>NaN</td>\n",
       "      <td>NaN</td>\n",
       "      <td>NaN</td>\n",
       "      <td>...</td>\n",
       "      <td>NaN</td>\n",
       "      <td>NaN</td>\n",
       "      <td>NaN</td>\n",
       "      <td>NaN</td>\n",
       "      <td>NaN</td>\n",
       "      <td>NaN</td>\n",
       "      <td>NaN</td>\n",
       "      <td>NaN</td>\n",
       "      <td>NaN</td>\n",
       "      <td>NaN</td>\n",
       "    </tr>\n",
       "    <tr>\n",
       "      <th>3363</th>\n",
       "      <td>NaN</td>\n",
       "      <td>NaN</td>\n",
       "      <td>NaN</td>\n",
       "      <td>NaN</td>\n",
       "      <td>NaN</td>\n",
       "      <td>NaN</td>\n",
       "      <td>NaN</td>\n",
       "      <td>NaN</td>\n",
       "      <td>NaN</td>\n",
       "      <td>NaN</td>\n",
       "      <td>...</td>\n",
       "      <td>NaN</td>\n",
       "      <td>NaN</td>\n",
       "      <td>NaN</td>\n",
       "      <td>NaN</td>\n",
       "      <td>NaN</td>\n",
       "      <td>NaN</td>\n",
       "      <td>NaN</td>\n",
       "      <td>NaN</td>\n",
       "      <td>NaN</td>\n",
       "      <td>NaN</td>\n",
       "    </tr>\n",
       "  </tbody>\n",
       "</table>\n",
       "<p>5 rows × 207699 columns</p>\n",
       "</div>"
      ],
      "text/plain": [
       "ISBN      0330299891   0375404120   0586045007   9022906116   9032803328  \\\n",
       "User-ID                                                                    \n",
       "254              NaN          NaN          NaN          NaN          NaN   \n",
       "2276             NaN          NaN          NaN          NaN          NaN   \n",
       "2766             NaN          NaN          NaN          NaN          NaN   \n",
       "2977             NaN          NaN          NaN          NaN          NaN   \n",
       "3363             NaN          NaN          NaN          NaN          NaN   \n",
       "\n",
       "ISBN      9044922564   9044922572   9044922718   9044923161   904492401X  ...  \\\n",
       "User-ID                                                                   ...   \n",
       "254              NaN          NaN          NaN          NaN          NaN  ...   \n",
       "2276             NaN          NaN          NaN          NaN          NaN  ...   \n",
       "2766             NaN          NaN          NaN          NaN          NaN  ...   \n",
       "2977             NaN          NaN          NaN          NaN          NaN  ...   \n",
       "3363             NaN          NaN          NaN          NaN          NaN  ...   \n",
       "\n",
       "ISBN     UNGRANDHOMMED  X000000000  YOUTELLEM,AND  ZR903CX0003  \\\n",
       "User-ID                                                          \n",
       "254                NaN         NaN            NaN          NaN   \n",
       "2276               NaN         NaN            NaN          NaN   \n",
       "2766               NaN         NaN            NaN          NaN   \n",
       "2977               NaN         NaN            NaN          NaN   \n",
       "3363               NaN         NaN            NaN          NaN   \n",
       "\n",
       "ISBN     \\0432534220\\\"\"  \\2842053052\\\"\"  b00005wz75  cn108465  cn113107  \\\n",
       "User-ID                                                                   \n",
       "254                 NaN             NaN         NaN       NaN       NaN   \n",
       "2276                NaN             NaN         NaN       NaN       NaN   \n",
       "2766                NaN             NaN         NaN       NaN       NaN   \n",
       "2977                NaN             NaN         NaN       NaN       NaN   \n",
       "3363                NaN             NaN         NaN       NaN       NaN   \n",
       "\n",
       "ISBN     Ô½crosoft  \n",
       "User-ID             \n",
       "254            NaN  \n",
       "2276           NaN  \n",
       "2766           NaN  \n",
       "2977           NaN  \n",
       "3363           NaN  \n",
       "\n",
       "[5 rows x 207699 columns]"
      ]
     },
     "execution_count": 182,
     "metadata": {},
     "output_type": "execute_result"
    }
   ],
   "source": [
    "print(ratings_pivot.shape)\n",
    "ratings_pivot.head()"
   ]
  },
  {
   "cell_type": "code",
   "execution_count": 183,
   "id": "22bb1db6-bf27-4f69-b913-43ff015664ed",
   "metadata": {},
   "outputs": [
    {
     "data": {
      "text/html": [
       "<div>\n",
       "<style scoped>\n",
       "    .dataframe tbody tr th:only-of-type {\n",
       "        vertical-align: middle;\n",
       "    }\n",
       "\n",
       "    .dataframe tbody tr th {\n",
       "        vertical-align: top;\n",
       "    }\n",
       "\n",
       "    .dataframe thead th {\n",
       "        text-align: right;\n",
       "    }\n",
       "</style>\n",
       "<table border=\"1\" class=\"dataframe\">\n",
       "  <thead>\n",
       "    <tr style=\"text-align: right;\">\n",
       "      <th></th>\n",
       "      <th>pearsonR</th>\n",
       "      <th>ratingcount</th>\n",
       "    </tr>\n",
       "    <tr>\n",
       "      <th>ISBN</th>\n",
       "      <th></th>\n",
       "      <th></th>\n",
       "    </tr>\n",
       "  </thead>\n",
       "  <tbody>\n",
       "  </tbody>\n",
       "</table>\n",
       "</div>"
      ],
      "text/plain": [
       "Empty DataFrame\n",
       "Columns: [pearsonR, ratingcount]\n",
       "Index: []"
      ]
     },
     "execution_count": 183,
     "metadata": {},
     "output_type": "execute_result"
    }
   ],
   "source": [
    "bones_ratings = ratings_pivot['UNGRANDHOMMED']\n",
    "similar_to_bones = ratings_pivot.corrwith(bones_ratings)\n",
    "corr_bones = pd.DataFrame(similar_to_bones, columns=['pearsonR'])\n",
    "corr_bones.dropna(inplace=True)\n",
    "corr_summary = corr_bones.join(average_rating['ratingcount'])\n",
    "corr_summary[corr_summary['ratingcount']>=300].sort_values('pearsonR', ascending=False).head(10)"
   ]
  },
  {
   "cell_type": "code",
   "execution_count": 163,
   "id": "d2edf157-8f7c-4b47-aa50-7b96c60563fd",
   "metadata": {},
   "outputs": [
    {
     "name": "stdout",
     "output_type": "stream",
     "text": [
      "ISBN\n",
      "0971880107    365\n",
      "0316666343    272\n",
      "0060928336    221\n",
      "0440214041    218\n",
      "0385504209    217\n",
      "044021145X    204\n",
      "0440211727    203\n",
      "067976402X    195\n",
      "0446672211    183\n",
      "059035342X    183\n",
      "dtype: int64\n"
     ]
    }
   ],
   "source": [
    "book_ratings_count = ratings_pivot.notnull().sum(axis=0).sort_values(ascending=False)\n",
    "print(book_ratings_count.head(10))  # Top 10 books with the most ratings"
   ]
  },
  {
   "cell_type": "code",
   "execution_count": 184,
   "id": "46e2f162-4d4d-454a-a2ac-e0fa5b1a17ff",
   "metadata": {},
   "outputs": [
    {
     "name": "stdout",
     "output_type": "stream",
     "text": [
      "'UNGRANDHOMMED' has too few ratings for correlation.\n"
     ]
    }
   ],
   "source": [
    "import pandas as pd\n",
    "\n",
    "# Step 1: Filter Users and Books with Minimum Ratings\n",
    "counts1 = ratings['User-ID'].value_counts()\n",
    "ratings = ratings[ratings['User-ID'].isin(counts1[counts1 >= 50].index)]  # Reduced to 50\n",
    "\n",
    "counts = ratings['Book-Rating'].value_counts()\n",
    "ratings = ratings[ratings['Book-Rating'].isin(counts[counts >= 20].index)]  # Reduced to 20\n",
    "\n",
    "# Step 2: Compute Average Ratings After Filtering\n",
    "average_rating = ratings.groupby('ISBN')['Book-Rating'].agg(['mean', 'count'])\n",
    "average_rating.rename(columns={'mean': 'avg_rating', 'count': 'ratingcount'}, inplace=True)\n",
    "\n",
    "# Step 3: Create Pivot Table\n",
    "ratings_pivot = ratings.pivot(index='User-ID', columns='ISBN')['Book-Rating']\n",
    "\n",
    "# Step 4: Compute Correlation with 'UNGRANDHOMMED'\n",
    "book_name = 'UNGRANDHOMMED'\n",
    "if book_name in ratings_pivot.columns and ratings_pivot[book_name].notnull().sum() >= 10:  # Check ratings count\n",
    "    bones_ratings = ratings_pivot[book_name]\n",
    "    similar_to_bones = ratings_pivot.corrwith(bones_ratings)\n",
    "    \n",
    "    # Step 5: Format Correlation Data\n",
    "    corr_bones = pd.DataFrame(similar_to_bones, columns=['pearsonR'])\n",
    "    corr_bones.dropna(inplace=True)\n",
    "\n",
    "    # Step 6: Join with Rating Counts and Filter\n",
    "    corr_summary = corr_bones.join(average_rating['ratingcount'])\n",
    "    recommendations = corr_summary[corr_summary['ratingcount'] >= 300].sort_values('pearsonR', ascending=False).head(10)\n",
    "    print(recommendations)\n",
    "else:\n",
    "    print(f\"'{book_name}' has too few ratings for correlation.\")\n"
   ]
  },
  {
   "cell_type": "code",
   "execution_count": null,
   "id": "ecd2b7e8-62c8-4150-a7c4-2882efb195e2",
   "metadata": {},
   "outputs": [],
   "source": []
  }
 ],
 "metadata": {
  "kernelspec": {
   "display_name": "Python 3 (ipykernel)",
   "language": "python",
   "name": "python3"
  },
  "language_info": {
   "codemirror_mode": {
    "name": "ipython",
    "version": 3
   },
   "file_extension": ".py",
   "mimetype": "text/x-python",
   "name": "python",
   "nbconvert_exporter": "python",
   "pygments_lexer": "ipython3",
   "version": "3.11.5"
  }
 },
 "nbformat": 4,
 "nbformat_minor": 5
}
